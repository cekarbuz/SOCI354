{
 "cells": [
  {
   "cell_type": "markdown",
   "id": "dda11922-b73c-4326-88c4-63ddf8ba75f7",
   "metadata": {},
   "source": [
    "# Problem 1"
   ]
  },
  {
   "cell_type": "code",
   "execution_count": null,
   "id": "9028fb9b-4f6f-46eb-84dc-4a30dfe8fd39",
   "metadata": {},
   "outputs": [],
   "source": [
    "# Import random library to generate a random number\n",
    "import random\n",
    "\n",
    "def is_number_lower(number:int) -> bool:\n",
    "    \"\"\"\n",
    "    :param number: User's guess\n",
    "    :return: True if the param number is lower than the random number, false otherwise\n",
    "    \"\"\"\n",
    "    if number < random_number:\n",
    "        return True\n",
    "    else:\n",
    "        return False\n",
    "\n",
    "# Generate a random number between 1 and 20\n",
    "random_number : int = random.randint(1,20) \n",
    "\n",
    "# Obtain an initial guess from the user\n",
    "# (Assume they will not input anything other than an integer for simplicity's sake)\n",
    "user_guess = int(input(\"Enter your guess: \"))\n",
    "\n",
    "# Set up a while loop to ask for a guess until the correct number is guessed\n",
    "while user_guess !=random_number:\n",
    "    \n",
    "    #Check if the user's guess is lower or higher than the random number\n",
    "    if is_number_lower(user_guess):\n",
    "        print(\"The number I chose is larger than yours. Try again?\")\n",
    "    else:\n",
    "        print(\"The number I chose is smaller than yours. Try again?\")\n",
    "    \n",
    "    \n",
    "    #Ask for another guess after giving the hint\n",
    "    user_guess = int(input(\"Enter your guess:\"))\n",
    "\n",
    "#Print out a success message\n",
    "print(f\"You got it! The number was indeed {random_number}\")"
   ]
  },
  {
   "cell_type": "markdown",
   "id": "b5cf7bdd-3c9d-4c3d-b94d-1b83a7ac44b9",
   "metadata": {},
   "source": [
    "# Problem 2"
   ]
  },
  {
   "cell_type": "code",
   "execution_count": null,
   "id": "1032e01b-06b9-4ec8-8537-530283533b50",
   "metadata": {},
   "outputs": [],
   "source": [
    "TARGET_VALUE: int  # Try with 5 and 12\n",
    "SORTED_ARRAY: list  # Sample list: [1, 2, 2, 4, 5, 7, 10, 15, 89, 195, 1045]\n",
    "\n",
    "#  Check if TARGET_VALUE is in SORTED_ARRAY\n",
    "if TARGET_VALUE in SORTED_ARRAY:\n",
    "    \n",
    "    #  If the number is in the list, use the index method to return the index of the number\n",
    "    print(f\"Index is {SORTED_ARRAY.index(TARGET_VALUE)}\")\n",
    "    \n",
    "else:\n",
    "    \n",
    "    #  If the number is not in the list, append the number to the list and resort it accordingly.\n",
    "    #  Apply the same logic to return the index number\n",
    "    SORTED_ARRAY.append(TARGET_VALUE)\n",
    "    SORTED_ARRAY.sort()\n",
    "    print(f\"Index would have been {SORTED_ARRAY.index(TARGET_VALUE)}\")"
   ]
  },
  {
   "cell_type": "markdown",
   "id": "ebd7344b-87d1-4eca-8e2b-420f11d8150d",
   "metadata": {},
   "source": [
    "# Problem 3"
   ]
  },
  {
   "cell_type": "code",
   "execution_count": null,
   "id": "ef7e23a3-9754-49d8-90bd-795b17749901",
   "metadata": {},
   "outputs": [],
   "source": [
    "a: str\n",
    "b: str\n",
    "\n",
    "# Use the int() function with an additional argument '2' to convert the string to an integer in binary terms,\n",
    "# sum them, and use the bin() function to convert it back to binary.\n",
    "# Take everythıng except the first two characters to obtain the binary number as a string.\n",
    "print(bin(int(a, 2) + int(b, 2))[2:])"
   ]
  },
  {
   "cell_type": "markdown",
   "id": "c634d9c9-617c-43b9-9d57-7618c3e9cbaf",
   "metadata": {},
   "source": [
    "# Problem 4"
   ]
  },
  {
   "cell_type": "code",
   "execution_count": null,
   "id": "245ae7f5-f183-41ef-94f1-3a4097daac9a",
   "metadata": {},
   "outputs": [],
   "source": [
    "INTEGER_ARRAY: list  # Sample list with 8 as the odd one out: [1, 7, 1, 2, 3, 2, 6, 4, 3, 4, 7, 8, 9, 9, 6]\n",
    "\n",
    "# Use list comprehension to iterate in the original list and append a given integer only if \n",
    "# the count function for that iteration returns 1, meaning it is the odd-one-out number for the list.\n",
    "# This process will yield a list with a single element, use indexing to obtain that number as an integer,\n",
    "# then print out the number.\n",
    "odd_number = [i for i in INTEGER_ARRAY if INTEGER_ARRAY.count(i) == 1][0]\n",
    "print(odd_number)"
   ]
  },
  {
   "cell_type": "markdown",
   "id": "d022562c-84c2-48c9-8606-db2d28ec4dfb",
   "metadata": {},
   "source": [
    "# Problem 5"
   ]
  },
  {
   "cell_type": "code",
   "execution_count": null,
   "id": "514b4e0a-da38-4fe0-a884-21804cad0d11",
   "metadata": {},
   "outputs": [],
   "source": [
    "DNA_SEQUENCE: str  # Example sequence: \"AAAAACCCCCAAAAACCCCCCAAAAAGGGTTT\"\n",
    "SEQUENCE_LENGTH: int  # Example integer: 10\n",
    "\n",
    "# Predefine a dictionary to fill up with all possible sequence combinations and the number of their occurrences\n",
    "dna_dictionary = {}\n",
    "\n",
    "# Enter a for loop that has a number of iterations equal to (the length of the sequence - length of the smaller sequence\n",
    "# + 1). For each iteration, define a sequence for each ith iteration as (i:i + 10) to capture all possible\n",
    "# sequences that are of length SEQUENCE_LENGTH. If that sequence is not in the dictionary,\n",
    "# create a new key for it that equals to 1. Otherwise, increase the value of the key by 1.\n",
    "for i in range(len(DNA_SEQUENCE)- SEQUENCE_LENGTH + 1):\n",
    "    if DNA_SEQUENCE[i:i+10] not in dna_dictionary:\n",
    "        dna_dictionary[DNA_SEQUENCE[i:i+10]] = 1\n",
    "    else:\n",
    "        dna_dictionary[DNA_SEQUENCE[i:i + 10]] += 1\n",
    "\n",
    "# Use list comprehension to create a new list that only holds keys from the original dictionary\n",
    "# if the key's value is greater than 1.\n",
    "final_list = [k for (k,v) in dna_dictionary.items() if v > 1]\n",
    "\n",
    "# Print out the list for the user\n",
    "print(final_list)"
   ]
  }
 ],
 "metadata": {
  "kernelspec": {
   "display_name": "Python 3 (ipykernel)",
   "language": "python",
   "name": "python3"
  },
  "language_info": {
   "codemirror_mode": {
    "name": "ipython",
    "version": 3
   },
   "file_extension": ".py",
   "mimetype": "text/x-python",
   "name": "python",
   "nbconvert_exporter": "python",
   "pygments_lexer": "ipython3",
   "version": "3.11.5"
  }
 },
 "nbformat": 4,
 "nbformat_minor": 5
}
