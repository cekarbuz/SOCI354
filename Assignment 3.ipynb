{
 "cells": [
  {
   "cell_type": "markdown",
   "id": "70ee3e42-544e-4c2d-8de1-1d25296a7975",
   "metadata": {},
   "source": [
    "# Step 1\n",
    "I thought it would be nice if I actually did something that I could use. I have been planning to start going to the gym for a while and I wanted to use this assignment as a means to achieve that goal. So, I found a website that had a library of different exercises where each exercise has a title, what equipment is needed for it, its level (beginner, intermediate, advanced), and which muslce groups it aims to target. Since I'm a beginner, I thought collecting all exercise types that are for beginners with the remaining information about them and building a DataFrame that holds that information would be nice. This is the website I found:https://www.acefitness.org/resources/everyone/exercise-library/\n",
    "And this is ther specific URL that only shows exercise types that are for beginners: https://www.acefitness.org/resources/everyone/exercise-library/experience/beginner/"
   ]
  },
  {
   "cell_type": "markdown",
   "id": "2b18f033-6840-4c2d-a5c0-8cf5c7bb5163",
   "metadata": {},
   "source": [
    "# Step 2\n",
    "Install necessary Python libraries (requests, Scrapy, etc.)"
   ]
  },
  {
   "cell_type": "code",
   "execution_count": 1,
   "id": "cc4b20b5-31ee-4062-ade3-2db39f46986a",
   "metadata": {
    "tags": []
   },
   "outputs": [],
   "source": [
    "# Import a scrapy Selector\n",
    "from scrapy import Selector\n",
    "\n",
    "# Import requests\n",
    "import requests\n",
    "\n",
    "# So I introduce some lags while I scrape information\n",
    "# from different subpages to not get banned :)\n",
    "import time\n"
   ]
  },
  {
   "cell_type": "markdown",
   "id": "f24cb6e1-048e-41bf-b1eb-7c39dc7bf87b",
   "metadata": {},
   "source": [
    "# Step 2 (cont.)\n",
    "I looked at the xpaths for titles, equipment information, and muscle groups separately for a couple of examples to see what kind of pattern there is:\n",
    "\n",
    "### Titles\n",
    "/html/body/div[4]/div[2]/div/main/div[3]/section/div[1]/div[1]/a/div[2]/header/h2\n",
    "/html/body/div[4]/div[2]/div/main/div[3]/section/div[4]/div[2]/a/div[2]/header/h2\n",
    "\n",
    "\n",
    "### Equipment information\n",
    "/html/body/div[4]/div[2]/div/main/div[3]/section/**div[1]/div[1]**/a/div[2]/div/dl/div[2]/dd\n",
    "/html/body/div[4]/div[2]/div/main/div[3]/section/**div[4]/div[2]**/a/div[2]/div/dl/div[2]/dd\n",
    "\n",
    "\n",
    "\n",
    "### Muscles groups\n",
    "/html/body/div[4]/div[2]/div/main/div[3]/section/**div[1]/div[1]**/a/div[2]/div/dl/div[1]/dd\n",
    "/html/body/div[4]/div[2]/div/main/div[3]/section/**div[4]/div[2]**/a/div[2]/div/dl/div[1]/dd\n",
    "\n",
    "---\n",
    "\n",
    "It seems like the website is organized in such a way that the parts I bolded correspond to row x column information on the website for each exercise type. Since I do not want a specific exercise in a specific location, I use the asterisk wildcard to collect all exercises in a page. Here are the xpaths:\n",
    "\n",
    "**Titles:** /html/body/div[4]/div[2]/div/main/div[3]/section/**div[\\*]/div[\\*]**/a/div[2]/header/h2\n",
    "\n",
    "**Equipment information:** /html/body/div[4]/div[2]/div/main/div[3]/section/**div[\\*]/div[\\*]**/a/div[2]/div/dl/div[2]/dd\n",
    "\n",
    "**Muscle groups:**\n",
    "/html/body/div[4]/div[2]/div/main/div[3]/section/**div[\\*]/div[\\*]**/a/div[2]/div/dl/div[1]/dd\n",
    "\n",
    "---\n",
    "I also checked how many different pages there are that go along for these exercises and it seems that the number is 10. So I will create a dynamic for loop to go into 10 different subpages and collect information from all of it.\n"
   ]
  },
  {
   "cell_type": "markdown",
   "id": "f8565401-d4f9-40f4-9830-481102eec5e2",
   "metadata": {},
   "source": [
    "# Step 3"
   ]
  },
  {
   "cell_type": "code",
   "execution_count": 2,
   "id": "b0cf7612-9e71-4af1-9a3b-dc480b668379",
   "metadata": {
    "tags": []
   },
   "outputs": [],
   "source": [
    "# Define the root URL\n",
    "root_url = (f'https://www.acefitness.org/resources/everyone/'\n",
    "       f'exercise-library/experience/beginner/?page=')\n",
    "\n",
    "\n",
    "# Define the xpaths\n",
    "xpath_for_body_area ='/html/body/div[4]/div[2]/div/main/div[3]/section/div[*]/div[*]/a/div[2]/div/dl/div[1]/dd/text()'\n",
    "xpath_for_title ='/html/body/div[4]/div[2]/div/main/div[3]/section/div[*]/div[*]/a/div[2]/header/h2/text()'\n",
    "xpath_for_equipment ='/html/body/div[4]/div[2]/div/main/div[3]/section/div[*]/div[*]/a/div[2]/div/dl/div[2]/dd/text()'\n",
    "\n",
    "# Define empty data structures for later use\n",
    "zip_list = []\n",
    "fitness_dictionary = {}\n",
    "\n",
    "# Enter a for loop for how many different pages there are starting from 1\n",
    "for page_number in range(1,11):\n",
    "    \n",
    "    url_for_page = f\"{root_url}{page_number}\"  # Specify the page for the iteration\n",
    "\n",
    "    html = requests.get(url_for_page).content  # Get the content for this page\n",
    "\n",
    "    sel = Selector(text = html)  # Select the content for this page\n",
    "\n",
    "\n",
    "    # Bundle the information together for each exercise and store it in a list\n",
    "    zip_object = zip((sel.xpath(xpath_for_title).extract()),\n",
    "             (sel.xpath(xpath_for_body_area).extract()),\n",
    "             (sel.xpath(xpath_for_equipment).extract()))\n",
    "    zip_list.append(zip_object)\n",
    "\n",
    "    # Introduce a lag just in case to not get banned :)\n",
    "    time.sleep(10.0)\n",
    "\n",
    "# Turn your zipped objects into a dictionary to convert it to a dataframe\n",
    "for zip_object in zip_list:\n",
    "       for title, body_area, equipment in zip_object:\n",
    "              fitness_dictionary[title] = [body_area, equipment]\n"
   ]
  },
  {
   "cell_type": "markdown",
   "id": "426107e5-1794-495d-999e-fe7e9c6663a4",
   "metadata": {},
   "source": [
    "# Step 4 & 5"
   ]
  },
  {
   "cell_type": "code",
   "execution_count": 4,
   "id": "a59af671-9ba5-4ff7-906b-1bd6b364e47f",
   "metadata": {
    "tags": []
   },
   "outputs": [],
   "source": [
    "import pandas as pd\n",
    "\n",
    "fitness_df = pd.DataFrame(fitness_dictionary)\n",
    "fitness_df= fitness_df.T\n",
    "\n",
    "\n",
    "fitness_df = fitness_df.rename(columns={0: 'Body Part', 1: 'Equipment'})\n",
    "fitness_df = fitness_df.rename_axis('Exercise Name')"
   ]
  },
  {
   "cell_type": "markdown",
   "id": "cd164f24-8cad-49c7-b631-48f116970e81",
   "metadata": {},
   "source": [
    "# DataFrame & some useful code bits"
   ]
  },
  {
   "cell_type": "code",
   "execution_count": 24,
   "id": "d248beb1-142f-458a-b680-da7fd1dfc1d3",
   "metadata": {
    "tags": []
   },
   "outputs": [
    {
     "name": "stdout",
     "output_type": "stream",
     "text": [
      "---\n",
      "Abs exercises:\n",
      "Index(['Bodyweight Squat', 'Childs Pose', 'Cobra Exercise', 'Crunch',\n",
      "       'Decline Plank', 'Dirty Dog', 'Forward Stepping over Cones ',\n",
      "       'Glute Bridge Exercise', 'Half-kneeling Hay Baler', 'Kneeling ABC's',\n",
      "       'Partner Assisted Bodyweight Squats', 'Partner Tricep Extension',\n",
      "       'Quadruped Bent-knee Hip Extensions', 'Seated Crunch',\n",
      "       'Seated Medicine Ball Trunk Rotations', 'Seated Side-Straddle Stretch ',\n",
      "       'Side Plank - modified', 'Single Leg Stand',\n",
      "       'Stability Ball Sit-ups / Crunches', 'Standing Crunch',\n",
      "       'Supine Dead Bug', 'Supine Hollowing with Lower Extremity Movements',\n",
      "       'Supine Pelvic Tilts', 'Supine Reverse Marches', 'Supine Rotator Cuff ',\n",
      "       'Supine Snow Angel (Wipers) Exercise', 'Upward Facing Dog',\n",
      "       'V Sit Partner Rotations'],\n",
      "      dtype='object', name='Exercise Name')\n",
      "---\n",
      "Resistance band exercises:\n",
      "Index(['Ankle Flexion ', 'Anti-rotation Reverse Lunge',\n",
      "       'Partner Tricep Extension', 'Prone (Lying) Hamstrings Curl',\n",
      "       'Rotator Cuff External Rotation', 'Rotator Cuff Internal Rotation',\n",
      "       'Seated Cable Press', 'Seated Decline Cable Press ',\n",
      "       'Seated High Back Row ', 'Seated Incline Cable Press',\n",
      "       'Single-arm Lateral Raise', 'Standing Bicep Curl', 'Standing Crunch',\n",
      "       'Tricep Pressdown Exercise', 'Triceps Pressdown', 'Walking Abduction'],\n",
      "      dtype='object', name='Exercise Name')\n",
      "---\n",
      "Arms & No equipment exercises:\n",
      "Index(['Bent Knee Push-up', 'Overhead Triceps Stretch',\n",
      "       'Seated Bent-Knee Biceps Stretch', 'Standing Shoulder Extension'],\n",
      "      dtype='object', name='Exercise Name')\n"
     ]
    }
   ],
   "source": [
    "fitness_df.to_csv(\"beginners_exercises.csv\")\n",
    "\n",
    "# Printing out the dataframe yielded a visually very unappealing output so\n",
    "# viewing it in a csv file is much better\n",
    "\n",
    "\n",
    "print(\"---\\nAbs exercises:\") # For better readability of the output\n",
    "\n",
    "# Print out exercises that have aim at strengthening abs\n",
    "print(fitness_df[fitness_df['Body Part'].str.contains(\"Abs\", case=False)].index)\n",
    "\n",
    "print(\"---\\nResistance band exercises:\") # For better readability of the output\n",
    "\n",
    "# Print out exercises that use resistance bands\n",
    "print(fitness_df[fitness_df['Equipment'].str.contains(\"Resistance bands\", case=False)].index)\n",
    "\n",
    "print(\"---\\nArms & No equipment exercises:\") # For better readability of the output\n",
    "\n",
    "# Print out exercises that target arms which require no equipment\n",
    "print(fitness_df[\n",
    "          fitness_df['Body Part'].str.contains(\"Arms\", case=False) &\n",
    "          fitness_df['Equipment'].str.contains(\"No equipment\", case=False)\n",
    "      ].index\n",
    "      )\n"
   ]
  }
 ],
 "metadata": {
  "kernelspec": {
   "display_name": "Python 3 (ipykernel)",
   "language": "python",
   "name": "python3"
  },
  "language_info": {
   "codemirror_mode": {
    "name": "ipython",
    "version": 3
   },
   "file_extension": ".py",
   "mimetype": "text/x-python",
   "name": "python",
   "nbconvert_exporter": "python",
   "pygments_lexer": "ipython3",
   "version": "3.11.5"
  }
 },
 "nbformat": 4,
 "nbformat_minor": 5
}
