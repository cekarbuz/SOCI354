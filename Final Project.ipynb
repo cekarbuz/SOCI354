{
 "cells": [
  {
   "cell_type": "code",
   "execution_count": null,
   "id": "6a78de6e-9f0b-4f91-babc-b300224d3687",
   "metadata": {},
   "outputs": [],
   "source": [
    "import pandas as pd\n",
    "import numpy as np\n",
    "import matplotlib.pyplot as plt\n",
    "\n",
    "\n",
    "excel_file = pd.ExcelFile(\"../Datasets/BTI_2006-2022_Scores.xlsx\")\n",
    "\n",
    "sheet_names = excel_file.sheet_names\n",
    "\n",
    "data_frames = [pd.read_excel(\"../Datasets/BTI_2006-2022_Scores.xlsx\", sheet_name=sheet) for sheet in sheet_names]\n",
    "\n",
    "merged_df = pd.concat(data_frames, ignore_index=True)\n",
    "merged_df.to_csv(\"merged_dataset.csv\", index=False)"
   ]
  },
  {
   "cell_type": "code",
   "execution_count": null,
   "id": "a9a116bd-635a-4d16-b329-ca54e1f3fd06",
   "metadata": {},
   "outputs": [],
   "source": [
    "dataset = pd.read_csv(\"merged_dataset.csv\")\n",
    "\n",
    "dataset[dataset == \"?\"] = np.nan\n",
    "dataset[dataset == \"-\"] = np.nan\n",
    "\n",
    "null_counts = dataset.isnull().sum().reset_index()\n",
    "null_counts.columns = ['Column', 'Null Count']\n",
    "null_counts.to_csv(\"null_counts.csv\")\n",
    "\n",
    "pd.set_option('display.max_columns', 200)  # None removes the limit on number of columns to display\n",
    "pd.set_option('display.width', 200)  # None removes the limit on display width\n",
    "\n",
    "null_counts = merged_df.isnull().sum().reset_index()\n",
    "null_counts.columns = ['Column', 'Null Count']"
   ]
  },
  {
   "cell_type": "markdown",
   "id": "c447331b-1743-41a2-b596-cab1128edde4",
   "metadata": {},
   "source": [
    "\n",
    "Colums to be deleted:\n",
    "\n",
    "- Q5.3 | Approval of democracy         550\n",
    "- Q16.4 | Civil society participation         137\n",
    "- Q16.5 | Reconciliation         301\n",
    "- Q16.4 | Social capital        1096\n",
    "- Q16.5 | Civil society participation        1096\n",
    "- Q16.6 | Reconciliation        1116\n",
    "\n",
    "\n",
    "\n",
    "\n",
    "Regions:\n",
    "\n",
    "- 1 | East-Central and Southeast Europe\n",
    "- 2 | Latin America and the Caribbean\n",
    "- 3 | West and Central Africa\n",
    "- 4 | Middle East and North Africa\n",
    "- 5 | Southern and Eastern Africa\n",
    "- 6 | Post-Soviet Eurasia\n",
    "- 7 | Asia and Oceania\n"
   ]
  },
  {
   "cell_type": "markdown",
   "id": "7485ca11-ed9c-4738-9d38-0e098426be99",
   "metadata": {},
   "source": [
    "### Side note:\n",
    "\n",
    "It was a lot easier to do the remaining filtering part in excel (filtering and deleting by looking at the visuals), so I took that shortcut instead of torturing myself with trying to have Python work properly (most of the time I also cannot be sure or I have to go lengths to be sure that Python is doing what I actually wanted it to do). I started out with the name \"deneme.csv\" and that stuck around, so that is the final version (I especially did not change the name so I don't mess up my code somehow that is working right now).\n",
    "\n",
    "### Side note 2:\n",
    "\n",
    "The remaining code was run twice with two different dataset combinations (General-Set and Specific-Set). I only changed the \"relevant_variables\" variable to have two different sets of variables. So for the sake of simplicity, I will only have one copy of the codes and simply by changing the that specific variable, everything should (hopefully) run smoothly, if it needs to be replicated for some reason.\n",
    "\n",
    "for the General-Set: relevant_variables = [column_list[104], column_list[30], column_list[32], column_list[37], column_list[40], column_list[43], column_list[46], column_list[48]]"
   ]
  },
  {
   "cell_type": "code",
   "execution_count": 3,
   "id": "fddf9bb8-14cb-4fc3-87b7-9c2f7d555d55",
   "metadata": {
    "tags": []
   },
   "outputs": [],
   "source": [
    "import pandas as pd\n",
    "import numpy as np\n",
    "import matplotlib.pyplot as plt\n",
    "\n",
    "dataset = pd.read_csv(\"deneme.csv\")"
   ]
  },
  {
   "cell_type": "code",
   "execution_count": 4,
   "id": "78692c61-c89e-45fe-b586-8c815889298f",
   "metadata": {
    "tags": []
   },
   "outputs": [],
   "source": [
    "dataset[dataset == \"?\"] = np.nan\n",
    "dataset[dataset == \"-\"] = np.nan\n",
    "\n",
    "null_counts = dataset.isnull().sum().reset_index()\n",
    "null_counts.columns = ['Column', 'Null Count']\n",
    "null_counts.to_csv(\"null_counts.csv\")"
   ]
  },
  {
   "cell_type": "code",
   "execution_count": 7,
   "id": "d40ebac5-b39b-4de8-9313-a0465c227087",
   "metadata": {
    "tags": []
   },
   "outputs": [],
   "source": [
    "from sklearn.preprocessing import LabelEncoder\n",
    "\n",
    "le_dem_aut = LabelEncoder()\n",
    "dataset['Democracy/Autocracy_le'] = le_dem_aut.fit_transform(dataset['Democracy/Autocracy'])\n",
    "\n",
    "le_si = LabelEncoder()\n",
    "dataset['Status Index_le'] = le_si.fit_transform(dataset['Status Index'])\n",
    "\n",
    "le_ds = LabelEncoder()\n",
    "dataset['Democracy Status_le'] = le_ds.fit_transform(dataset['Democracy Status'])\n",
    "\n",
    "le_es = LabelEncoder()\n",
    "dataset['Economy Status_le'] = le_es.fit_transform(dataset['Economy Status'])\n",
    "\n",
    "le_gi = LabelEncoder()\n",
    "dataset['Governance Index_le'] = le_gi.fit_transform(dataset['Governance Index'])\n",
    "\n",
    "le_gp = LabelEncoder()\n",
    "dataset['Governance Performance_le'] = le_gp.fit_transform(dataset['Governance Performance'])\n",
    "\n",
    "le_reg = LabelEncoder()\n",
    "dataset['Region_le'] = le_reg.fit_transform(dataset['Region'])"
   ]
  },
  {
   "cell_type": "code",
   "execution_count": 9,
   "id": "9ae31d97-9211-4100-a72f-b7468844e8e0",
   "metadata": {
    "tags": []
   },
   "outputs": [
    {
     "name": "stdout",
     "output_type": "stream",
     "text": [
      "Index 0Country\n",
      "Index 1Region\n",
      "Index 2  Ranking Status Index\n",
      "Index 3  S | Status Index\n",
      "Index 4  Ranking Democracy Status\n",
      "Index 5  SI | Democracy Status\n",
      "Index 6  Q1 | Stateness\n",
      "Index 7  Q1.1 | Monopoly on the use of force\n",
      "Index 8  Q1.2 | State identity\n",
      "Index 9  Q1.3 | No interference of religious dogmas\n",
      "Index 10  Q1.4 | Basic administration\n",
      "Index 11  Q2 | Political Participation\n",
      "Index 12  Q2.1 | Free and fair elections\n",
      "Index 13  Q2.2 | Effective power to govern\n",
      "Index 14  Q2.3 | Association / assembly rights\n",
      "Index 15  Q2.4 | Freedom of expression\n",
      "Index 16  Q3 | Rule of Law\n",
      "Index 17  Q3.1 | Separation of powers\n",
      "Index 18  Q3.2 | Independent judiciary\n",
      "Index 19  Q3.3 | Prosecution of office abuse\n",
      "Index 20  Q3.4 | Civil rights\n",
      "Index 21  Q4 | Stability of Democratic Institutions\n",
      "Index 22  Q4.1 | Performance of democratic institutions\n",
      "Index 23  Q4.2 | Commitment to democratic institutions\n",
      "Index 24  Q5 | Political and Social Integration\n",
      "Index 25  Q5.1 | Party system\n",
      "Index 26  Q5.2 | Interest groups\n",
      "Index 27  Q5.4 | Social capital\n",
      "Index 28  Ranking Economy Status\n",
      "Index 29  SII | Economy Status\n",
      "Index 30  Q6 | Level of Socioeconomic Development\n",
      "Index 31  Q6.1 | Socioeconomic barriers\n",
      "Index 32  Q7 | Organization of the Market and Competition\n",
      "Index 33  Q7.1 | Market organization\n",
      "Index 34  Q7.2 | Competition policy\n",
      "Index 35  Q7.3 | Liberalization of foreign trade\n",
      "Index 36  Q7.4 | Banking system\n",
      "Index 37  Q8 | Monetary and Fiscal Stability\n",
      "Index 38  Q8.1 | Monetary stability\n",
      "Index 39  Q8.2 | Fiscal stability\n",
      "Index 40  Q9 | Private Property\n",
      "Index 41  Q9.1 | Property rights\n",
      "Index 42  Q9.2 | Private enterprise\n",
      "Index 43  Q10 | Welfare Regime\n",
      "Index 44  Q10.1 | Social safety nets\n",
      "Index 45  Q10.2 | Equal opportunity\n",
      "Index 46  Q11 | Economic Performance\n",
      "Index 47  Q11.1 | Output strength\n",
      "Index 48  Q12 | Sustainability\n",
      "Index 49  Q12.1 | Environmental policy\n",
      "Index 50  Q12.2 | Education / R&D policy\n",
      "Index 51  Ranking Governance Index\n",
      "Index 52  G | Governance Index\n",
      "Index 53  Q13 | Level of Difficulty\n",
      "Index 54  Q13.1 | Structural constraints\n",
      "Index 55  Q13.2 | Civil society traditions\n",
      "Index 56  Q13.3 | Conflict intensity\n",
      "Index 57  Q13.4 | GNI p.c. Atlas method rescaled\n",
      "Index 58  Q13.5 | UN Educ. Index rescaled\n",
      "Index 59  Q13.6 | BTI Stateness & Rule of Law\n",
      "Index 60  GII | Governance Performance\n",
      "Index 61  Q14 | Steering Capability\n",
      "Index 62  Q14.1 | Prioritization\n",
      "Index 63  Q14.2 | Implementation\n",
      "Index 64  Q14.3 | Policy learning\n",
      "Index 65  Q15 | Resource Efficiency\n",
      "Index 66  Q15.1 | Efficient use of assets\n",
      "Index 67  Q15.2 | Policy coordination\n",
      "Index 68  Q15.3 | Anti-corruption policy\n",
      "Index 69  Q16 | Consensus-Building\n",
      "Index 70  Q16.1 | Consensus on goals\n",
      "Index 71  Q16.2 | Anti-democratic actors\n",
      "Index 72  Q16.3 | Cleavage / conflict management\n",
      "Index 73  Q17 | International Cooperation\n",
      "Index 74  Q17.1 | Effective use of support\n",
      "Index 75  Q17.2 | Credibility\n",
      "Index 76  Q17.3 | Regional cooperation\n",
      "Index 77  Total\n",
      "Index 78Democracy/Autocracy\n",
      "Index 79  S | Status Index.1\n",
      "Index 80  Category\n",
      "Index 81Status Index\n",
      "Index 82  SI | Democracy Status.1\n",
      "Index 83  Category.1\n",
      "Index 84Democracy Status\n",
      "Index 85  SII | Economy Status.1\n",
      "Index 86  Category.2\n",
      "Index 87Economy Status\n",
      "Index 88  G | Governance Index.1\n",
      "Index 89  Category.3\n",
      "Index 90Governance Index\n",
      "Index 91  Q13 | Level of Difficulty.1\n",
      "Index 92  Category.4\n",
      "Index 930.4\n",
      "Index 94  GII | Governance Performance.1\n",
      "Index 95  Category.5\n",
      "Index 96Governance Performance\n",
      "Index 97Year\n",
      "Index 98Democracy/Autocracy_le\n",
      "Index 99Status Index_le\n",
      "Index 100Democracy Status_le\n",
      "Index 101Economy Status_le\n",
      "Index 102Governance Index_le\n",
      "Index 103Governance Performance_le\n",
      "Index 104Region_le\n"
     ]
    }
   ],
   "source": [
    "for x,y in enumerate(list(dataset.columns)):\n",
    "    print(f\"Index {x}{y}\")"
   ]
  },
  {
   "cell_type": "markdown",
   "id": "58d1f2eb-6b09-4e16-9844-a97754d72289",
   "metadata": {},
   "source": [
    "# knn"
   ]
  },
  {
   "cell_type": "code",
   "execution_count": 17,
   "id": "b282d271-4497-4498-acc2-3235b1cb9a3b",
   "metadata": {
    "tags": []
   },
   "outputs": [],
   "source": [
    "from sklearn.neighbors import KNeighborsClassifier\n",
    "from sklearn.model_selection import train_test_split\n",
    "\n",
    "knn=KNeighborsClassifier(n_neighbors=6)\n",
    "column_list = list(dataset.columns)\n",
    "\n",
    "relevant_variables = [column_list[104], column_list[33], column_list[34], column_list[35],\n",
    "                      column_list[36], column_list[38], column_list[39], column_list[41], \n",
    "                      column_list[42], column_list[44], column_list[45], column_list[47],\n",
    "                      column_list[49], column_list[50], column_list[31]]\n",
    "X = dataset[relevant_variables].to_numpy()\n",
    "y = dataset[\"Democracy/Autocracy\"].to_numpy()\n",
    "\n",
    "X_train, X_test, y_train, y_test = train_test_split(X, y, test_size=0.3, random_state=21, stratify=y)\n"
   ]
  },
  {
   "cell_type": "code",
   "execution_count": 19,
   "id": "6f3bc677-b658-45cd-844d-4f43c2599659",
   "metadata": {
    "tags": []
   },
   "outputs": [
    {
     "name": "stdout",
     "output_type": "stream",
     "text": [
      "['Region_le', '  Q7.1 | Market organization', '  Q7.2 | Competition policy', '  Q7.3 | Liberalization of foreign trade', '  Q7.4 | Banking system', '  Q8.1 | Monetary stability', '  Q8.2 | Fiscal stability', '  Q9.1 | Property rights', '  Q9.2 | Private enterprise', '  Q10.1 | Social safety nets', '  Q10.2 | Equal opportunity', '  Q11.1 | Output strength', '  Q12.1 | Environmental policy', '  Q12.2 | Education / R&D policy', '  Q6.1 | Socioeconomic barriers']\n"
     ]
    }
   ],
   "source": [
    "print(relevant_variables)"
   ]
  },
  {
   "cell_type": "code",
   "execution_count": 21,
   "id": "3e0298f8-5be5-4d5f-a9e7-b7cf93f7ac41",
   "metadata": {
    "tags": []
   },
   "outputs": [
    {
     "data": {
      "text/html": [
       "<style>#sk-container-id-1 {color: black;}#sk-container-id-1 pre{padding: 0;}#sk-container-id-1 div.sk-toggleable {background-color: white;}#sk-container-id-1 label.sk-toggleable__label {cursor: pointer;display: block;width: 100%;margin-bottom: 0;padding: 0.3em;box-sizing: border-box;text-align: center;}#sk-container-id-1 label.sk-toggleable__label-arrow:before {content: \"▸\";float: left;margin-right: 0.25em;color: #696969;}#sk-container-id-1 label.sk-toggleable__label-arrow:hover:before {color: black;}#sk-container-id-1 div.sk-estimator:hover label.sk-toggleable__label-arrow:before {color: black;}#sk-container-id-1 div.sk-toggleable__content {max-height: 0;max-width: 0;overflow: hidden;text-align: left;background-color: #f0f8ff;}#sk-container-id-1 div.sk-toggleable__content pre {margin: 0.2em;color: black;border-radius: 0.25em;background-color: #f0f8ff;}#sk-container-id-1 input.sk-toggleable__control:checked~div.sk-toggleable__content {max-height: 200px;max-width: 100%;overflow: auto;}#sk-container-id-1 input.sk-toggleable__control:checked~label.sk-toggleable__label-arrow:before {content: \"▾\";}#sk-container-id-1 div.sk-estimator input.sk-toggleable__control:checked~label.sk-toggleable__label {background-color: #d4ebff;}#sk-container-id-1 div.sk-label input.sk-toggleable__control:checked~label.sk-toggleable__label {background-color: #d4ebff;}#sk-container-id-1 input.sk-hidden--visually {border: 0;clip: rect(1px 1px 1px 1px);clip: rect(1px, 1px, 1px, 1px);height: 1px;margin: -1px;overflow: hidden;padding: 0;position: absolute;width: 1px;}#sk-container-id-1 div.sk-estimator {font-family: monospace;background-color: #f0f8ff;border: 1px dotted black;border-radius: 0.25em;box-sizing: border-box;margin-bottom: 0.5em;}#sk-container-id-1 div.sk-estimator:hover {background-color: #d4ebff;}#sk-container-id-1 div.sk-parallel-item::after {content: \"\";width: 100%;border-bottom: 1px solid gray;flex-grow: 1;}#sk-container-id-1 div.sk-label:hover label.sk-toggleable__label {background-color: #d4ebff;}#sk-container-id-1 div.sk-serial::before {content: \"\";position: absolute;border-left: 1px solid gray;box-sizing: border-box;top: 0;bottom: 0;left: 50%;z-index: 0;}#sk-container-id-1 div.sk-serial {display: flex;flex-direction: column;align-items: center;background-color: white;padding-right: 0.2em;padding-left: 0.2em;position: relative;}#sk-container-id-1 div.sk-item {position: relative;z-index: 1;}#sk-container-id-1 div.sk-parallel {display: flex;align-items: stretch;justify-content: center;background-color: white;position: relative;}#sk-container-id-1 div.sk-item::before, #sk-container-id-1 div.sk-parallel-item::before {content: \"\";position: absolute;border-left: 1px solid gray;box-sizing: border-box;top: 0;bottom: 0;left: 50%;z-index: -1;}#sk-container-id-1 div.sk-parallel-item {display: flex;flex-direction: column;z-index: 1;position: relative;background-color: white;}#sk-container-id-1 div.sk-parallel-item:first-child::after {align-self: flex-end;width: 50%;}#sk-container-id-1 div.sk-parallel-item:last-child::after {align-self: flex-start;width: 50%;}#sk-container-id-1 div.sk-parallel-item:only-child::after {width: 0;}#sk-container-id-1 div.sk-dashed-wrapped {border: 1px dashed gray;margin: 0 0.4em 0.5em 0.4em;box-sizing: border-box;padding-bottom: 0.4em;background-color: white;}#sk-container-id-1 div.sk-label label {font-family: monospace;font-weight: bold;display: inline-block;line-height: 1.2em;}#sk-container-id-1 div.sk-label-container {text-align: center;}#sk-container-id-1 div.sk-container {/* jupyter's `normalize.less` sets `[hidden] { display: none; }` but bootstrap.min.css set `[hidden] { display: none !important; }` so we also need the `!important` here to be able to override the default hidden behavior on the sphinx rendered scikit-learn.org. See: https://github.com/scikit-learn/scikit-learn/issues/21755 */display: inline-block !important;position: relative;}#sk-container-id-1 div.sk-text-repr-fallback {display: none;}</style><div id=\"sk-container-id-1\" class=\"sk-top-container\"><div class=\"sk-text-repr-fallback\"><pre>KNeighborsClassifier(n_neighbors=6)</pre><b>In a Jupyter environment, please rerun this cell to show the HTML representation or trust the notebook. <br />On GitHub, the HTML representation is unable to render, please try loading this page with nbviewer.org.</b></div><div class=\"sk-container\" hidden><div class=\"sk-item\"><div class=\"sk-estimator sk-toggleable\"><input class=\"sk-toggleable__control sk-hidden--visually\" id=\"sk-estimator-id-1\" type=\"checkbox\" checked><label for=\"sk-estimator-id-1\" class=\"sk-toggleable__label sk-toggleable__label-arrow\">KNeighborsClassifier</label><div class=\"sk-toggleable__content\"><pre>KNeighborsClassifier(n_neighbors=6)</pre></div></div></div></div></div>"
      ],
      "text/plain": [
       "KNeighborsClassifier(n_neighbors=6)"
      ]
     },
     "execution_count": 21,
     "metadata": {},
     "output_type": "execute_result"
    }
   ],
   "source": [
    "knn.fit(X_train,y_train)"
   ]
  },
  {
   "cell_type": "code",
   "execution_count": 23,
   "id": "e0e38ec5-918d-4f3d-bf3e-e6b41bccc606",
   "metadata": {
    "tags": []
   },
   "outputs": [
    {
     "data": {
      "text/plain": [
       "0.8796561604584527"
      ]
     },
     "execution_count": 23,
     "metadata": {},
     "output_type": "execute_result"
    }
   ],
   "source": [
    "y_pred=knn.predict(X_test)\n",
    "\n",
    "knn.score(X_test, y_test)"
   ]
  },
  {
   "cell_type": "code",
   "execution_count": 29,
   "id": "d97be31c-8ab6-4eac-97fe-df9e32464dfd",
   "metadata": {
    "tags": []
   },
   "outputs": [
    {
     "data": {
      "image/png": "[encoded data removed]",
      "text/plain": [
       "<Figure size 640x480 with 1 Axes>"
      ]
     },
     "metadata": {},
     "output_type": "display_data"
    }
   ],
   "source": [
    "neighbors = np.arange(1, 11)\n",
    "train_accuracy = np.empty(len(neighbors))\n",
    "test_accuracy = np.empty(len(neighbors))\n",
    "\n",
    "for i, k in enumerate(neighbors):\n",
    "    knn = KNeighborsClassifier(n_neighbors=k)\n",
    "    knn.fit(X_train, y_train)\n",
    "    train_accuracy[i] = knn.score(X_train, y_train)\n",
    "    test_accuracy[i] = knn.score(X_test, y_test)\n",
    "\n",
    "plt.title('k-NN: Varying Number of Neighbors')\n",
    "plt.plot(neighbors, test_accuracy, label = 'Testing Accuracy')\n",
    "plt.plot(neighbors, train_accuracy, label = 'Training Accuracy')\n",
    "plt.legend()\n",
    "plt.xlabel('Number of Neighbors')\n",
    "plt.ylabel('Accuracy')\n",
    "plt.show()"
   ]
  },
  {
   "cell_type": "code",
   "execution_count": 31,
   "id": "5dafa411-ff81-4cd8-a24f-48c7b913665d",
   "metadata": {
    "tags": []
   },
   "outputs": [
    {
     "name": "stdout",
     "output_type": "stream",
     "text": [
      "{'n_neighbors': 1}\n",
      "0.90693160977868\n"
     ]
    }
   ],
   "source": [
    "from sklearn.model_selection import GridSearchCV\n",
    "\n",
    "param_grid = {'n_neighbors':np.arange(1,5)}\n",
    "knn = KNeighborsClassifier()\n",
    "knn_cv = GridSearchCV(knn, param_grid, cv=6)\n",
    "knn_cv.fit(X, y)\n",
    "print(knn_cv.best_params_)\n",
    "print(knn_cv.best_score_)"
   ]
  },
  {
   "cell_type": "code",
   "execution_count": 33,
   "id": "25fdcc60-6416-49be-ab89-f3a70b50f567",
   "metadata": {
    "tags": []
   },
   "outputs": [
    {
     "data": {
      "text/plain": [
       "0.9111747851002865"
      ]
     },
     "execution_count": 33,
     "metadata": {},
     "output_type": "execute_result"
    }
   ],
   "source": [
    "knn1=KNeighborsClassifier(n_neighbors=1)\n",
    "knn3=KNeighborsClassifier(n_neighbors=3)\n",
    "\n",
    "knn1.fit(X_train,y_train)\n",
    "knn3.fit(X_train,y_train)\n",
    "\n",
    "y_pred1=knn1.predict(X_test)\n",
    "\n",
    "knn1.score(X_test, y_test)"
   ]
  },
  {
   "cell_type": "code",
   "execution_count": 409,
   "id": "28d7c2b3-f6b1-4f96-8f5a-d8930cb79e8f",
   "metadata": {
    "tags": []
   },
   "outputs": [
    {
     "data": {
      "text/plain": [
       "0.896551724137931"
      ]
     },
     "execution_count": 409,
     "metadata": {},
     "output_type": "execute_result"
    }
   ],
   "source": [
    "y_pred3=knn3.predict(X_test)\n",
    "\n",
    "knn3.score(X_test, y_test)"
   ]
  },
  {
   "cell_type": "code",
   "execution_count": 35,
   "id": "a041cceb-aa1f-4973-a8b3-e96e524aa6cb",
   "metadata": {
    "tags": []
   },
   "outputs": [
    {
     "name": "stdout",
     "output_type": "stream",
     "text": [
      "[[141  15]\n",
      " [ 27 166]]\n",
      "              precision    recall  f1-score   support\n",
      "\n",
      "        Aut.       0.91      0.88      0.90       156\n",
      "        Dem.       0.91      0.93      0.92       193\n",
      "\n",
      "    accuracy                           0.91       349\n",
      "   macro avg       0.91      0.91      0.91       349\n",
      "weighted avg       0.91      0.91      0.91       349\n",
      "\n"
     ]
    }
   ],
   "source": [
    "from sklearn.metrics import classification_report\n",
    "from sklearn.metrics import confusion_matrix\n",
    "\n",
    "print(confusion_matrix(y_test, y_pred))\n",
    "knn1tab= classification_report(y_test, y_pred1, output_dict=True)\n",
    "knn1tab= pd.DataFrame(knn1tab)\n",
    "knn1tab.to_csv(\"table.csv\")\n",
    "print(classification_report(y_test, y_pred1))\n"
   ]
  },
  {
   "cell_type": "code",
   "execution_count": 37,
   "id": "021a87c0-62f7-4020-afad-32a7c118cfc1",
   "metadata": {
    "tags": []
   },
   "outputs": [
    {
     "name": "stdout",
     "output_type": "stream",
     "text": [
      "0.933\n",
      "0.025\n",
      "Confidence interval for this model: 0.922-0.944)\n"
     ]
    }
   ],
   "source": [
    "from sklearn.model_selection import cross_val_score\n",
    "cv_results = cross_val_score(knn1, X, y, cv=20)\n",
    "\n",
    "#print(cv_results)\n",
    "mean = round(np.mean(cv_results), 3)\n",
    "std = round(np.std(cv_results),3)\n",
    "sem = std/(np.sqrt(20))\n",
    "\n",
    "print(mean)\n",
    "print(std)\n",
    "print(f\"Confidence interval for this model: {round(mean - 1.96*sem,3)}-{round(mean + 1.96*sem,3)})\")"
   ]
  },
  {
   "cell_type": "markdown",
   "id": "09685185-548e-4603-924b-c59b774fd68e",
   "metadata": {},
   "source": [
    "# tree"
   ]
  },
  {
   "cell_type": "code",
   "execution_count": 63,
   "id": "2afe67b3-b367-465d-b0e8-b83997c36a41",
   "metadata": {
    "tags": []
   },
   "outputs": [
    {
     "name": "stdout",
     "output_type": "stream",
     "text": [
      "Depth of the Decision Tree : 16\n",
      "[[136  20]\n",
      " [ 15 178]]\n",
      "              precision    recall  f1-score   support\n",
      "\n",
      "        Aut.       0.90      0.87      0.89       156\n",
      "        Dem.       0.90      0.92      0.91       193\n",
      "\n",
      "    accuracy                           0.90       349\n",
      "   macro avg       0.90      0.90      0.90       349\n",
      "weighted avg       0.90      0.90      0.90       349\n",
      "\n",
      "              precision    recall  f1-score   support\n",
      "\n",
      "        Aut.       0.90      0.87      0.89       156\n",
      "        Dem.       0.90      0.92      0.91       193\n",
      "\n",
      "    accuracy                           0.90       349\n",
      "   macro avg       0.90      0.90      0.90       349\n",
      "weighted avg       0.90      0.90      0.90       349\n",
      "\n"
     ]
    }
   ],
   "source": [
    "from sklearn import tree\n",
    "from sklearn.tree import plot_tree\n",
    "from sklearn.metrics import classification_report\n",
    "\n",
    "\n",
    "clf = tree.DecisionTreeClassifier(max_depth=25)\n",
    "\n",
    "clf = clf.fit(X_train, y_train)\n",
    "y_pred = clf.predict(X_test)\n",
    "\n",
    "y_pred_proba = clf.predict_proba\n",
    "\n",
    "print('Depth of the Decision Tree :', clf.get_depth())\n",
    "\n",
    "print(confusion_matrix(y_test, y_pred))\n",
    "print(classification_report(y_test, y_pred))\n",
    "\n",
    "table = classification_report(y_test, y_pred, output_dict=True)\n",
    "table= pd.DataFrame(table)\n",
    "table.to_csv(\"table.csv\")\n",
    "print(classification_report(y_test, y_pred))"
   ]
  },
  {
   "cell_type": "code",
   "execution_count": 59,
   "id": "d42299e8-6a2f-4d9d-a2eb-f99d78ced676",
   "metadata": {
    "tags": []
   },
   "outputs": [
    {
     "name": "stdout",
     "output_type": "stream",
     "text": [
      "Tuned Decision Tree Parameters: {'criterion': 'gini', 'max_depth': 11, 'max_features': 19, 'min_samples_leaf': 4}\n",
      "Best score is 0.8620616526546996\n"
     ]
    }
   ],
   "source": [
    "# Import necessary modules\n",
    "from scipy.stats import randint\n",
    "from sklearn.model_selection import RandomizedSearchCV\n",
    "from sklearn.tree import DecisionTreeClassifier\n",
    "\n",
    "# Setup the parameters and distributions to sample from: param_dist\n",
    "param_dist = {\"max_depth\": randint(1,26),\n",
    "              \"max_features\": randint(1, 50),\n",
    "              \"min_samples_leaf\": randint(1, 50),\n",
    "              \"criterion\": [\"gini\", \"entropy\"]}\n",
    "\n",
    "# Instantiate a Decision Tree classifier: tree\n",
    "tree = DecisionTreeClassifier()\n",
    "\n",
    "# Instantiate the RandomizedSearchCV object: tree_cv\n",
    "tree_cv = RandomizedSearchCV(tree, param_dist, cv=5)\n",
    "\n",
    "# Fit it to the data\n",
    "tree_cv.fit(X_train, y_train)\n",
    "\n",
    "# Print the tuned parameters and score\n",
    "print(\"Tuned Decision Tree Parameters: {}\".format(tree_cv.best_params_))\n",
    "print(\"Best score is {}\".format(tree_cv.best_score_))"
   ]
  },
  {
   "cell_type": "code",
   "execution_count": 61,
   "id": "ce93e545-1926-4352-85fa-a960f44c16d4",
   "metadata": {
    "tags": []
   },
   "outputs": [
    {
     "name": "stdout",
     "output_type": "stream",
     "text": [
      "Depth of the Decision Tree: 11\n",
      "[[134  22]\n",
      " [ 17 176]]\n",
      "              precision    recall  f1-score   support\n",
      "\n",
      "        Aut.       0.89      0.86      0.87       156\n",
      "        Dem.       0.89      0.91      0.90       193\n",
      "\n",
      "    accuracy                           0.89       349\n",
      "   macro avg       0.89      0.89      0.89       349\n",
      "weighted avg       0.89      0.89      0.89       349\n",
      "\n"
     ]
    }
   ],
   "source": [
    "best_params = {\n",
    "    'criterion': 'gini',\n",
    "    'max_depth': 11,\n",
    "    'max_features': 19,\n",
    "    'min_samples_leaf': 4\n",
    "}\n",
    "\n",
    "clf = DecisionTreeClassifier(\n",
    "    criterion=best_params['criterion'],\n",
    "    max_depth=best_params['max_depth'],\n",
    "    max_features=best_params['max_features'],\n",
    "    min_samples_leaf=best_params['min_samples_leaf']\n",
    ")\n",
    "\n",
    "clf = clf.fit(X_train, y_train)\n",
    "\n",
    "y_pred = clf.predict(X_test)\n",
    "\n",
    "print('Depth of the Decision Tree:', clf.get_depth())\n",
    "\n",
    "print(confusion_matrix(y_test, y_pred))\n",
    "table = classification_report(y_test, y_pred, output_dict=True)\n",
    "table= pd.DataFrame(table)\n",
    "table.to_csv(\"table.csv\")\n",
    "print(classification_report(y_test, y_pred))\n"
   ]
  },
  {
   "cell_type": "code",
   "execution_count": 65,
   "id": "eb274a5f-34db-4b82-b75c-3f73a4fa6eb5",
   "metadata": {
    "tags": []
   },
   "outputs": [
    {
     "data": {
      "image/png": "[encoded data removed]",
      "text/plain": [
       "<Figure size 2000x2000 with 1 Axes>"
      ]
     },
     "metadata": {},
     "output_type": "display_data"
    }
   ],
   "source": [
    "from sklearn.tree import plot_tree\n",
    "\n",
    "plt.figure(figsize=(20,20))\n",
    "plot_tree(clf, filled=True, max_depth=2)\n",
    "plt.show()"
   ]
  },
  {
   "cell_type": "code",
   "execution_count": 75,
   "id": "8ab4932b-7275-4e59-88bc-9738c79a46bf",
   "metadata": {
    "tags": []
   },
   "outputs": [
    {
     "name": "stdout",
     "output_type": "stream",
     "text": [
      "0.901\n",
      "0.043\n",
      "Confidence interval for this model: 0.882-0.92)\n"
     ]
    }
   ],
   "source": [
    "from sklearn.model_selection import cross_val_score\n",
    "cv_results = cross_val_score(clf, X, y, cv=20)\n",
    "\n",
    "#print(cv_results)\n",
    "mean = round(np.mean(cv_results), 3)\n",
    "std = round(np.std(cv_results),3)\n",
    "sem = std/(np.sqrt(20))\n",
    "\n",
    "print(mean)\n",
    "print(std)\n",
    "print(f\"Confidence interval for this model: {round(mean - 1.96*sem,3)}-{round(mean + 1.96*sem,3)})\")"
   ]
  },
  {
   "cell_type": "markdown",
   "id": "ef373d61-bb76-4e75-8930-3d3533e055f0",
   "metadata": {},
   "source": [
    "# logistic"
   ]
  },
  {
   "cell_type": "code",
   "execution_count": 77,
   "id": "20794bc9-d35c-4f69-adfa-9fad814f7a02",
   "metadata": {
    "tags": []
   },
   "outputs": [
    {
     "data": {
      "text/html": [
       "<style>#sk-container-id-2 {color: black;}#sk-container-id-2 pre{padding: 0;}#sk-container-id-2 div.sk-toggleable {background-color: white;}#sk-container-id-2 label.sk-toggleable__label {cursor: pointer;display: block;width: 100%;margin-bottom: 0;padding: 0.3em;box-sizing: border-box;text-align: center;}#sk-container-id-2 label.sk-toggleable__label-arrow:before {content: \"▸\";float: left;margin-right: 0.25em;color: #696969;}#sk-container-id-2 label.sk-toggleable__label-arrow:hover:before {color: black;}#sk-container-id-2 div.sk-estimator:hover label.sk-toggleable__label-arrow:before {color: black;}#sk-container-id-2 div.sk-toggleable__content {max-height: 0;max-width: 0;overflow: hidden;text-align: left;background-color: #f0f8ff;}#sk-container-id-2 div.sk-toggleable__content pre {margin: 0.2em;color: black;border-radius: 0.25em;background-color: #f0f8ff;}#sk-container-id-2 input.sk-toggleable__control:checked~div.sk-toggleable__content {max-height: 200px;max-width: 100%;overflow: auto;}#sk-container-id-2 input.sk-toggleable__control:checked~label.sk-toggleable__label-arrow:before {content: \"▾\";}#sk-container-id-2 div.sk-estimator input.sk-toggleable__control:checked~label.sk-toggleable__label {background-color: #d4ebff;}#sk-container-id-2 div.sk-label input.sk-toggleable__control:checked~label.sk-toggleable__label {background-color: #d4ebff;}#sk-container-id-2 input.sk-hidden--visually {border: 0;clip: rect(1px 1px 1px 1px);clip: rect(1px, 1px, 1px, 1px);height: 1px;margin: -1px;overflow: hidden;padding: 0;position: absolute;width: 1px;}#sk-container-id-2 div.sk-estimator {font-family: monospace;background-color: #f0f8ff;border: 1px dotted black;border-radius: 0.25em;box-sizing: border-box;margin-bottom: 0.5em;}#sk-container-id-2 div.sk-estimator:hover {background-color: #d4ebff;}#sk-container-id-2 div.sk-parallel-item::after {content: \"\";width: 100%;border-bottom: 1px solid gray;flex-grow: 1;}#sk-container-id-2 div.sk-label:hover label.sk-toggleable__label {background-color: #d4ebff;}#sk-container-id-2 div.sk-serial::before {content: \"\";position: absolute;border-left: 1px solid gray;box-sizing: border-box;top: 0;bottom: 0;left: 50%;z-index: 0;}#sk-container-id-2 div.sk-serial {display: flex;flex-direction: column;align-items: center;background-color: white;padding-right: 0.2em;padding-left: 0.2em;position: relative;}#sk-container-id-2 div.sk-item {position: relative;z-index: 1;}#sk-container-id-2 div.sk-parallel {display: flex;align-items: stretch;justify-content: center;background-color: white;position: relative;}#sk-container-id-2 div.sk-item::before, #sk-container-id-2 div.sk-parallel-item::before {content: \"\";position: absolute;border-left: 1px solid gray;box-sizing: border-box;top: 0;bottom: 0;left: 50%;z-index: -1;}#sk-container-id-2 div.sk-parallel-item {display: flex;flex-direction: column;z-index: 1;position: relative;background-color: white;}#sk-container-id-2 div.sk-parallel-item:first-child::after {align-self: flex-end;width: 50%;}#sk-container-id-2 div.sk-parallel-item:last-child::after {align-self: flex-start;width: 50%;}#sk-container-id-2 div.sk-parallel-item:only-child::after {width: 0;}#sk-container-id-2 div.sk-dashed-wrapped {border: 1px dashed gray;margin: 0 0.4em 0.5em 0.4em;box-sizing: border-box;padding-bottom: 0.4em;background-color: white;}#sk-container-id-2 div.sk-label label {font-family: monospace;font-weight: bold;display: inline-block;line-height: 1.2em;}#sk-container-id-2 div.sk-label-container {text-align: center;}#sk-container-id-2 div.sk-container {/* jupyter's `normalize.less` sets `[hidden] { display: none; }` but bootstrap.min.css set `[hidden] { display: none !important; }` so we also need the `!important` here to be able to override the default hidden behavior on the sphinx rendered scikit-learn.org. See: https://github.com/scikit-learn/scikit-learn/issues/21755 */display: inline-block !important;position: relative;}#sk-container-id-2 div.sk-text-repr-fallback {display: none;}</style><div id=\"sk-container-id-2\" class=\"sk-top-container\"><div class=\"sk-text-repr-fallback\"><pre>LogisticRegression()</pre><b>In a Jupyter environment, please rerun this cell to show the HTML representation or trust the notebook. <br />On GitHub, the HTML representation is unable to render, please try loading this page with nbviewer.org.</b></div><div class=\"sk-container\" hidden><div class=\"sk-item\"><div class=\"sk-estimator sk-toggleable\"><input class=\"sk-toggleable__control sk-hidden--visually\" id=\"sk-estimator-id-2\" type=\"checkbox\" checked><label for=\"sk-estimator-id-2\" class=\"sk-toggleable__label sk-toggleable__label-arrow\">LogisticRegression</label><div class=\"sk-toggleable__content\"><pre>LogisticRegression()</pre></div></div></div></div></div>"
      ],
      "text/plain": [
       "LogisticRegression()"
      ]
     },
     "execution_count": 77,
     "metadata": {},
     "output_type": "execute_result"
    }
   ],
   "source": [
    "from sklearn.linear_model import LogisticRegression\n",
    "\n",
    "logreg = LogisticRegression()\n",
    "logreg.fit(X_train, y_train)"
   ]
  },
  {
   "cell_type": "code",
   "execution_count": 79,
   "id": "d67ab7ff-7d8f-451b-8364-d85faf26c102",
   "metadata": {
    "tags": []
   },
   "outputs": [],
   "source": [
    "dataset[\"Democracy/Autocracy_dummy\"] = dataset[\"Democracy/Autocracy\"].map({\"Aut.\": 0, \"Dem.\": 1})\n",
    "\n",
    "y_dummy = np.array(dataset[\"Democracy/Autocracy_dummy\"])\n",
    "X2_train, X2_test, y2_train, y2_test = train_test_split(X, y_dummy, test_size=0.3, random_state=21, stratify=y_dummy)"
   ]
  },
  {
   "cell_type": "code",
   "execution_count": 81,
   "id": "6b11b66f-adab-42fd-b50c-7a836e210816",
   "metadata": {
    "tags": []
   },
   "outputs": [
    {
     "name": "stdout",
     "output_type": "stream",
     "text": [
      "Accuracy: 0.8108882521489972\n",
      "              precision    recall  f1-score   support\n",
      "\n",
      "           0       0.78      0.81      0.79       156\n",
      "           1       0.84      0.81      0.83       193\n",
      "\n",
      "    accuracy                           0.81       349\n",
      "   macro avg       0.81      0.81      0.81       349\n",
      "weighted avg       0.81      0.81      0.81       349\n",
      "\n"
     ]
    }
   ],
   "source": [
    "logreg = LogisticRegression()\n",
    "logreg.fit(X2_train, y2_train)\n",
    "\n",
    "logreg_pred = logreg.predict(X2_test)\n",
    "\n",
    "accuracy = logreg.score(X2_test, y2_test)\n",
    "print(\"Accuracy:\", accuracy)\n",
    "\n",
    "table = classification_report(y2_test, logreg_pred, output_dict=True)\n",
    "table= pd.DataFrame(table)\n",
    "table.to_csv(\"table.csv\")\n",
    "print(classification_report(y2_test, logreg_pred))"
   ]
  },
  {
   "cell_type": "code",
   "execution_count": 83,
   "id": "ee3235e7-8514-45c4-b676-2ee8a22f9b9c",
   "metadata": {
    "tags": []
   },
   "outputs": [
    {
     "name": "stdout",
     "output_type": "stream",
     "text": [
      "Accuracy: 0.8166189111747851\n",
      "[[126  30]\n",
      " [ 34 159]]\n",
      "              precision    recall  f1-score   support\n",
      "\n",
      "           0       0.79      0.81      0.80       156\n",
      "           1       0.84      0.82      0.83       193\n",
      "\n",
      "    accuracy                           0.82       349\n",
      "   macro avg       0.81      0.82      0.81       349\n",
      "weighted avg       0.82      0.82      0.82       349\n",
      "\n"
     ]
    }
   ],
   "source": [
    "from sklearn.linear_model import LogisticRegression\n",
    "\n",
    "ridge_log_reg = LogisticRegression(penalty='l2', C=0.1) \n",
    "\n",
    "ridge_log_reg.fit(X2_train, y2_train)\n",
    "\n",
    "ridge_log_reg_pred = ridge_log_reg.predict(X2_test)\n",
    "\n",
    "accuracy = ridge_log_reg.score(X2_test, y2_test)\n",
    "print(\"Accuracy:\", accuracy)\n",
    "\n",
    "print(confusion_matrix(y2_test, ridge_log_reg_pred))\n",
    "print(classification_report(y2_test, ridge_log_reg_pred))"
   ]
  },
  {
   "cell_type": "code",
   "execution_count": 436,
   "id": "13ac9eb9-0fe0-47b7-bdac-ead865d20880",
   "metadata": {
    "tags": []
   },
   "outputs": [
    {
     "name": "stdout",
     "output_type": "stream",
     "text": [
      "Accuracy: 0.7787356321839081\n",
      "[[106  49]\n",
      " [ 31 162]]\n",
      "              precision    recall  f1-score   support\n",
      "\n",
      "           0       0.77      0.68      0.73       155\n",
      "           1       0.77      0.84      0.80       193\n",
      "\n",
      "    accuracy                           0.77       348\n",
      "   macro avg       0.77      0.76      0.76       348\n",
      "weighted avg       0.77      0.77      0.77       348\n",
      "\n"
     ]
    }
   ],
   "source": [
    "lasso_log_reg = LogisticRegression(penalty='l1', solver='liblinear')\n",
    "\n",
    "lasso_log_reg.fit(X2_train, y2_train)\n",
    "\n",
    "lasso_log_reg_pred = ridge_log_reg.predict(X2_test)\n",
    "\n",
    "accuracy = lasso_log_reg.score(X2_test, y2_test)\n",
    "print(\"Accuracy:\", accuracy)\n",
    "\n",
    "print(confusion_matrix(y2_test, lasso_log_reg_pred))\n",
    "print(classification_report(y2_test, lasso_log_reg_pred))\n"
   ]
  },
  {
   "cell_type": "code",
   "execution_count": 85,
   "id": "1f372fae-0e3e-4e6e-b258-fafb3034b90b",
   "metadata": {
    "tags": []
   },
   "outputs": [
    {
     "name": "stdout",
     "output_type": "stream",
     "text": [
      "0.817\n",
      "0.035\n",
      "Confidence interval for this model: 0.802-0.832\n"
     ]
    }
   ],
   "source": [
    "cv_results = cross_val_score(logreg, X, y, cv=20)\n",
    "\n",
    "#print(cv_results)\n",
    "mean = round(np.mean(cv_results), 3)\n",
    "std = round(np.std(cv_results),3)\n",
    "sem = std/(np.sqrt(20))\n",
    "\n",
    "print(mean)\n",
    "print(std)\n",
    "print(f\"Confidence interval for this model: {round(mean - 1.96*sem,3)}-{round(mean + 1.96*sem,3)}\")"
   ]
  },
  {
   "cell_type": "markdown",
   "id": "8db679d4-5346-47a4-9f26-802d8787e0c8",
   "metadata": {},
   "source": [
    "# naive bayes"
   ]
  },
  {
   "cell_type": "code",
   "execution_count": 91,
   "id": "52b24839-a264-4003-bbee-d7ebb0bd12d6",
   "metadata": {
    "tags": []
   },
   "outputs": [
    {
     "name": "stdout",
     "output_type": "stream",
     "text": [
      "Number of mislabeled points out of a total 349 points : 94\n",
      "              precision    recall  f1-score   support\n",
      "\n",
      "        Aut.       0.70      0.69      0.69       156\n",
      "        Dem.       0.75      0.77      0.76       193\n",
      "\n",
      "    accuracy                           0.73       349\n",
      "   macro avg       0.73      0.73      0.73       349\n",
      "weighted avg       0.73      0.73      0.73       349\n",
      "\n"
     ]
    }
   ],
   "source": [
    "from sklearn.naive_bayes import GaussianNB\n",
    "\n",
    "gnb = GaussianNB()\n",
    "y_pred = gnb.fit(X_train, y_train).predict(X_test)\n",
    "print(\"Number of mislabeled points out of a total %d points : %d\" % (X_test.shape[0], (y_test != y_pred).sum()))\n",
    "table = classification_report(y_test, y_pred, output_dict=True)\n",
    "table= pd.DataFrame(table)\n",
    "table.to_csv(\"table.csv\")\n",
    "print(classification_report(y_test, y_pred))"
   ]
  },
  {
   "cell_type": "code",
   "execution_count": 89,
   "id": "bb372f0d-1748-4bf6-91ec-b8676380f502",
   "metadata": {
    "tags": []
   },
   "outputs": [
    {
     "name": "stdout",
     "output_type": "stream",
     "text": [
      "Number of mislabeled points out of a total 349 points : 115\n",
      "              precision    recall  f1-score   support\n",
      "\n",
      "        Aut.       0.62      0.69      0.65       156\n",
      "        Dem.       0.72      0.65      0.69       193\n",
      "\n",
      "    accuracy                           0.67       349\n",
      "   macro avg       0.67      0.67      0.67       349\n",
      "weighted avg       0.68      0.67      0.67       349\n",
      "\n"
     ]
    }
   ],
   "source": [
    "from sklearn.naive_bayes import MultinomialNB\n",
    "\n",
    "mnb = MultinomialNB()\n",
    "y_pred = mnb.fit(X_train, y_train).predict(X_test)\n",
    "print(\"Number of mislabeled points out of a total %d points : %d\" % (X_test.shape[0], (y_test != y_pred).sum()))\n",
    "table = classification_report(y_test, y_pred, output_dict=True)\n",
    "table= pd.DataFrame(table)\n",
    "table.to_csv(\"table.csv\")\n",
    "print(classification_report(y_test, y_pred))"
   ]
  },
  {
   "cell_type": "code",
   "execution_count": 93,
   "id": "72c70ad5-74c4-4e42-93ac-20d052632846",
   "metadata": {
    "tags": []
   },
   "outputs": [
    {
     "name": "stdout",
     "output_type": "stream",
     "text": [
      "0.742\n",
      "0.056\n",
      "Confidence interval for this model: 0.717-0.767\n"
     ]
    }
   ],
   "source": [
    "cv_results = cross_val_score(gnb, X, y, cv=20)\n",
    "\n",
    "#print(cv_results)\n",
    "mean = round(np.mean(cv_results), 3)\n",
    "std = round(np.std(cv_results),3)\n",
    "sem = std/(np.sqrt(20))\n",
    "\n",
    "print(mean)\n",
    "print(std)\n",
    "print(f\"Confidence interval for this model: {round(mean - 1.96*sem,3)}-{round(mean + 1.96*sem,3)}\")"
   ]
  },
  {
   "cell_type": "code",
   "execution_count": 460,
   "id": "9ec410c1-69ff-4c59-9755-792f51f50c53",
   "metadata": {
    "tags": []
   },
   "outputs": [
    {
     "name": "stdout",
     "output_type": "stream",
     "text": [
      "0.677\n",
      "0.063\n",
      "Confidence interval for this model: 0.649-0.705\n"
     ]
    }
   ],
   "source": [
    "cv_results = cross_val_score(mnb, X, y, cv=20)\n",
    "\n",
    "#print(cv_results)\n",
    "mean = round(np.mean(cv_results), 3)\n",
    "std = round(np.std(cv_results),3)\n",
    "sem = std/(np.sqrt(20))\n",
    "\n",
    "print(mean)\n",
    "print(std)\n",
    "print(f\"Confidence interval for this model: {round(mean - 1.96*sem,3)}-{round(mean + 1.96*sem,3)}\")"
   ]
  },
  {
   "cell_type": "markdown",
   "id": "9c1c4663-1e31-41a0-9d29-d4e6979e716e",
   "metadata": {
    "tags": []
   },
   "source": [
    "# svm"
   ]
  },
  {
   "cell_type": "code",
   "execution_count": 276,
   "id": "f8fbc664-9cdd-4849-a731-18297ea83e7a",
   "metadata": {
    "tags": []
   },
   "outputs": [
    {
     "name": "stdout",
     "output_type": "stream",
     "text": [
      "Number of mislabeled points out of a total 348 points : 54\n"
     ]
    }
   ],
   "source": [
    "from sklearn import svm\n",
    "\n",
    "SVC = svm.SVC(kernel='linear')\n",
    "SVC.fit(X_train, y_train)\n",
    "y_pred = SVC.predict(X_test)\n",
    "\n",
    "print(\"Number of mislabeled points out of a total %d points : %d\" % (X_test.shape[0], (y_test != y_pred).sum()))\n",
    "print(classification_report(y_test, y_pred))"
   ]
  },
  {
   "cell_type": "code",
   "execution_count": 478,
   "id": "5d6a93a9-93e5-492b-a4a3-785622a5490d",
   "metadata": {
    "tags": []
   },
   "outputs": [
    {
     "name": "stdout",
     "output_type": "stream",
     "text": [
      "Number of mislabeled points out of a total 348 points : 77\n",
      "              precision    recall  f1-score   support\n",
      "\n",
      "        Aut.       0.82      0.65      0.72       155\n",
      "        Dem.       0.76      0.89      0.82       193\n",
      "\n",
      "    accuracy                           0.78       348\n",
      "   macro avg       0.79      0.77      0.77       348\n",
      "weighted avg       0.78      0.78      0.77       348\n",
      "\n"
     ]
    }
   ],
   "source": [
    "y_pred  = svm.SVC(kernel='linear', C=100).fit(X_train, y_train).predict(X_test)\n",
    "print(\"Number of mislabeled points out of a total %d points : %d\" % (X_test.shape[0], (y_test != y_pred).sum()))\n",
    "print(classification_report(y_test, y_pred))"
   ]
  },
  {
   "cell_type": "code",
   "execution_count": 476,
   "id": "80b37d97-6597-4051-b93d-67b007972a59",
   "metadata": {
    "tags": []
   },
   "outputs": [
    {
     "name": "stdout",
     "output_type": "stream",
     "text": [
      "Number of mislabeled points out of a total 348 points : 77\n",
      "              precision    recall  f1-score   support\n",
      "\n",
      "        Aut.       0.82      0.65      0.72       155\n",
      "        Dem.       0.76      0.89      0.82       193\n",
      "\n",
      "    accuracy                           0.78       348\n",
      "   macro avg       0.79      0.77      0.77       348\n",
      "weighted avg       0.78      0.78      0.77       348\n",
      "\n"
     ]
    }
   ],
   "source": [
    "y_pred  = svm.SVC(kernel='linear', C=1000).fit(X_train, y_train).predict(X_test)\n",
    "print(\"Number of mislabeled points out of a total %d points : %d\" % (X_test.shape[0], (y_test != y_pred).sum()))\n",
    "print(classification_report(y_test, y_pred))"
   ]
  },
  {
   "cell_type": "code",
   "execution_count": 480,
   "id": "93352f43-e194-4ae6-8406-67e6a52e4c8c",
   "metadata": {
    "tags": []
   },
   "outputs": [
    {
     "name": "stdout",
     "output_type": "stream",
     "text": [
      "Number of mislabeled points out of a total 348 points : 76\n",
      "              precision    recall  f1-score   support\n",
      "\n",
      "        Aut.       0.83      0.65      0.72       155\n",
      "        Dem.       0.76      0.89      0.82       193\n",
      "\n",
      "    accuracy                           0.78       348\n",
      "   macro avg       0.79      0.77      0.77       348\n",
      "weighted avg       0.79      0.78      0.78       348\n",
      "\n"
     ]
    }
   ],
   "source": [
    "y_pred  = svm.SVC(kernel='linear', C=0.1).fit(X_train, y_train).predict(X_test)\n",
    "print(\"Number of mislabeled points out of a total %d points : %d\" % (X_test.shape[0], (y_test != y_pred).sum()))\n",
    "print(classification_report(y_test, y_pred))"
   ]
  },
  {
   "cell_type": "code",
   "execution_count": null,
   "id": "38272e01-4907-49fa-87b7-36a5a0171070",
   "metadata": {
    "tags": []
   },
   "outputs": [],
   "source": [
    "y_pred  = svm.SVC(kernel='linear', C=1E6).fit(X_train, y_train).predict(X_test)\n",
    "print(\"Number of mislabeled points out of a total %d points : %d\" % (X_test.shape[0], (y_test != y_pred).sum()))\n",
    "print(classification_report(y_test, y_pred))"
   ]
  },
  {
   "cell_type": "code",
   "execution_count": 282,
   "id": "aa75da99-0272-43bc-9f70-990214f63bea",
   "metadata": {
    "tags": []
   },
   "outputs": [
    {
     "name": "stdout",
     "output_type": "stream",
     "text": [
      "Number of mislabeled points out of a total 348 points : 55\n"
     ]
    }
   ],
   "source": [
    "y_pred  = svm.SVC(kernel='rbf', C=1E16).fit(X_train, y_train).predict(X_test)\n",
    "print(\"Number of mislabeled points out of a total %d points : %d\" % (X_test.shape[0], (y_test != y_pred).sum()))"
   ]
  },
  {
   "cell_type": "markdown",
   "id": "8bafdac6-2261-4b33-9e65-2311e34a65a5",
   "metadata": {},
   "source": [
    "# tree graph"
   ]
  },
  {
   "cell_type": "code",
   "execution_count": 73,
   "id": "21e39759-e4b7-49b1-8013-f55954a4ec5e",
   "metadata": {
    "tags": []
   },
   "outputs": [
    {
     "name": "stderr",
     "output_type": "stream",
     "text": [
      "/var/folders/cf/dxphc13j51j6m28qbd4tj7xh0000gn/T/ipykernel_37888/1293547567.py:31: UserWarning: The following kwargs were not used by contour: 'clim'\n",
      "  contours = ax.contourf(xx, yy, Z, alpha=0.3,\n"
     ]
    },
    {
     "data": {
      "image/png": "[encoded data removed]",
      "text/plain": [
       "<Figure size 640x480 with 1 Axes>"
      ]
     },
     "metadata": {},
     "output_type": "display_data"
    }
   ],
   "source": [
    "from sklearn.tree import DecisionTreeClassifier\n",
    "\n",
    "X2 = dataset[relevant_variables].to_numpy()\n",
    "y2 = dataset[\"Democracy/Autocracy_le\"].to_numpy()\n",
    "\n",
    "X2_train, X2_test, y2_train, y2_test = train_test_split(X2, y2, test_size=0.3, random_state=21, stratify=y)\n",
    "\n",
    "\n",
    "\n",
    "\n",
    "K_dum = X2[:,0:2] #Let's assume X has two features, take the first two, and ignore the rest.\n",
    "def visualize_classifier(model, X, y, ax=None, cmap='rainbow'):\n",
    "    ax = ax or plt.gca()\n",
    "    \n",
    "    # Plot the training points\n",
    "    ax.scatter(X[:, 0], X[:, 1], c=y, s=30, cmap=cmap,\n",
    "               clim=(y.min(), y.max()), zorder=3)\n",
    "    ax.axis('tight')\n",
    "    ax.axis('off')\n",
    "    xlim = ax.get_xlim()\n",
    "    ylim = ax.get_ylim()\n",
    "    \n",
    "    # fit the estimator\n",
    "    model.fit(X, y)\n",
    "    xx, yy = np.meshgrid(np.linspace(*xlim, num=200),\n",
    "                         np.linspace(*ylim, num=200))\n",
    "    Z = model.predict(np.c_[xx.ravel(), yy.ravel()]).reshape(xx.shape)\n",
    "\n",
    "    # Create a color plot with the results\n",
    "    n_classes = len(np.unique(y))\n",
    "    contours = ax.contourf(xx, yy, Z, alpha=0.3,\n",
    "                           levels=np.arange(n_classes + 1) - 0.5,\n",
    "                           cmap=cmap, clim=(y.min(), y.max()),\n",
    "                           zorder=1)\n",
    "\n",
    "    ax.set(xlim=xlim, ylim=ylim)\n",
    "visualize_classifier(DecisionTreeClassifier(criterion='gini'), K_dum, y2)"
   ]
  }
 ],
 "metadata": {
  "kernelspec": {
   "display_name": "Python 3 (ipykernel)",
   "language": "python",
   "name": "python3"
  },
  "language_info": {
   "codemirror_mode": {
    "name": "ipython",
    "version": 3
   },
   "file_extension": ".py",
   "mimetype": "text/x-python",
   "name": "python",
   "nbconvert_exporter": "python",
   "pygments_lexer": "ipython3",
   "version": "3.11.5"
  }
 },
 "nbformat": 4,
 "nbformat_minor": 5
}
